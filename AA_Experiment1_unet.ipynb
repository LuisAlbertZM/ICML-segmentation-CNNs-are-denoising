{
 "cells": [
  {
   "cell_type": "code",
   "execution_count": null,
   "metadata": {},
   "outputs": [],
   "source": [
    "%matplotlib inline\n",
    "import os\n",
    "import h5py\n",
    "import torch\n",
    "import numpy as np\n",
    "import torch.nn.functional as F\n",
    "from torch.utils import data\n",
    "import matplotlib.pyplot as plt\n",
    "from torch.utils.data import Dataset, DataLoader\n",
    "from torch.utils import data"
   ]
  },
  {
   "cell_type": "code",
   "execution_count": null,
   "metadata": {},
   "outputs": [],
   "source": [
    "from scripts.dataloaders import dataLoaderSeg\n",
    "\n",
    "    \n",
    "dataset = \"BRATSmini5_train.h5\"\n",
    "# Getting the patient numbers\n",
    "iDlist = []\n",
    "with h5py.File(dataset, 'r' ) as f:\n",
    "    keys = list(f.keys())\n",
    "    for k in keys:\n",
    "        # First split is patient iD\n",
    "        iD = k.split(\"_\")[0]\n",
    "        if iD in iDlist:\n",
    "            pass\n",
    "        else:\n",
    "            iDlist.append(iD)\n",
    "\n",
    "Npat = len(iDlist)\n",
    "trai_list = iDlist[0:Npat//3]\n",
    "vali_list = iDlist[Npat//3:2*Npat//3]\n",
    "test_list = iDlist[2*Npat//3:-1]\n",
    "\n",
    "\n",
    "trai_data = dataLoaderSeg(dataset, trai_list, enableRotation=True)\n",
    "vali_data = dataLoaderSeg(dataset, vali_list, enableRotation=True)\n",
    "test_data = dataLoaderSeg(dataset, test_list)"
   ]
  },
  {
   "cell_type": "code",
   "execution_count": null,
   "metadata": {},
   "outputs": [],
   "source": [
    "# U-Net parameters\n",
    "wf = 16\n",
    "depth = 4\n",
    "in_chans= 1\n",
    "\n",
    "# optimizastion\n",
    "bs = 8\n",
    "ilr = 3.5e-4\n",
    "epo = 300"
   ]
  },
  {
   "cell_type": "code",
   "execution_count": null,
   "metadata": {},
   "outputs": [],
   "source": [
    "from scripts.customLosses import wBCE, BinaryIoU\n",
    "lossDice = BinaryIoU(smooth=5.0)\n",
    "\n",
    "def loss_trai(cnn,x, y):\n",
    "    \n",
    "    segLoss = lossDice(cnn(x)[0], y)\n",
    "    \n",
    "    return(segLoss )\n",
    "\n",
    "def loss_vali(cnn,x, y):\n",
    "    return(lossDice(cnn(x)[0], y) )"
   ]
  },
  {
   "cell_type": "code",
   "execution_count": null,
   "metadata": {
    "scrolled": true
   },
   "outputs": [],
   "source": [
    "from scripts.training import trainingLoop\n",
    "##############\n",
    "# Epoch loop #\n",
    "for run in np.arange(5):\n",
    "    from CNNs.unet import unet_2d\n",
    "    cnn = unet_2d(in_chans, depth, wf).float().cuda()\n",
    "    trainingLoop(\n",
    "        cnn,\n",
    "        trai_data,\n",
    "        vali_data,\n",
    "        epo, bs,\n",
    "        loss_trai,\n",
    "        loss_vali,\n",
    "        torch.optim.AdamW(cnn.parameters(), lr=ilr, weight_decay=0.25),\n",
    "        ilr,\n",
    "        \"./CNN_weights/unet_run%s.pyt\"%run,\n",
    "        printLog=True,\n",
    "        logName=\"./CNN_weights/logs/unet_run%s.log\"%run)"
   ]
  }
 ],
 "metadata": {
  "kernelspec": {
   "display_name": "Python (pytorch_1p4_astralocal)",
   "language": "python",
   "name": "pytorch_1p4_astralocal"
  },
  "language_info": {
   "codemirror_mode": {
    "name": "ipython",
    "version": 3
   },
   "file_extension": ".py",
   "mimetype": "text/x-python",
   "name": "python",
   "nbconvert_exporter": "python",
   "pygments_lexer": "ipython3",
   "version": "3.6.10"
  }
 },
 "nbformat": 4,
 "nbformat_minor": 2
}
